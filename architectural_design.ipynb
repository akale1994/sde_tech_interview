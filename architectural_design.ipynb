{
 "cells": [
  {
   "cell_type": "markdown",
   "id": "db08a043",
   "metadata": {},
   "source": [
    "## Architectural design:"
   ]
  },
  {
   "cell_type": "markdown",
   "id": "e0853452",
   "metadata": {},
   "source": [
    "#### Considering the importance of data security in a Fintech organisation like etika, could you please design an ideal end-to-end AWS data lake architecture?\n",
    "\n",
    "Please consider the following requirements/elements:\n",
    "1. Kinesis click-stream source\n",
    "2. Ensure PII is protected to meet GDPR requirements\n",
    "3. Must serve data scientists/business consumers/business analysts/applications/etc.\n",
    "4. Must be able to handle it as a stream and also aggregates\n",
    "5. Consider multiple regions/VPCs\n",
    "6. Be prepared to describe how the data lake will be governed and managed\n",
    "\n",
    "You may use - [draw.io](https://draw.io/)"
   ]
  }
 ],
 "metadata": {
  "kernelspec": {
   "display_name": "Python 3 (ipykernel)",
   "language": "python",
   "name": "python3"
  },
  "language_info": {
   "codemirror_mode": {
    "name": "ipython",
    "version": 3
   },
   "file_extension": ".py",
   "mimetype": "text/x-python",
   "name": "python",
   "nbconvert_exporter": "python",
   "pygments_lexer": "ipython3",
   "version": "3.8.5"
  }
 },
 "nbformat": 4,
 "nbformat_minor": 5
}
