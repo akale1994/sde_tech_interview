{
 "cells": [
  {
   "cell_type": "markdown",
   "id": "e3cccdf5",
   "metadata": {},
   "source": [
    "## Programming Question 2:"
   ]
  },
  {
   "cell_type": "markdown",
   "id": "c22cee3c",
   "metadata": {},
   "source": [
    "#### Please discuss the steps/pseudo code that you will follow while cleaning any given CSV data file."
   ]
  },
  {
   "cell_type": "markdown",
   "id": "82583602",
   "metadata": {},
   "source": [
    "#### %load test_data.csv\n",
    "\n",
    "```\n",
    "id,version_id,version_ts,date,time,name,dob,address,postcode,mobile\n",
    "1,621c09bc-8fce-4e7a-b152-6ca688257323,1221504456,2021-07-23,20:31:15,DianaMorrison,1984-12-09,\"048\\nTabitha Anchorage Paulmouth, 'NT', 4181\",,61429658718\n",
    "2,02806f75-76f9-4de1-9b39-d7c04aa8f3ed,59814549,2020-13-11,19:23:28,Erin Miller,1987-11-22,\"Level 2 272 Tiffany Strand Port Destiny, 'TAS', xxxx\",2607,0460092862\n",
    "3,ac47224e-554e-4976-8671-6ec1b74a518b,1115747752,2021/04/12,15:49:54,CoryShelton,1988-08-17,\"397\\nPearson Row Toddhaven, ACT, 0832\",0832,61461527149\n",
    "4,061a1431-b971-4757-ab48-dc6b7ee607e8,806393818,2021-08-12,15:18:54,Sarah Andersen,76-07-03,\"Suite 696 83 Anderson Stairs South Barbarahaven,\\nQLD, 1787\",177,0413315663\n",
    "5,4ebcd33e-b45c-4934-b67a-f1f9f403dd9d,598560423,14-03-2021,10:14:29,JoanSoto,1990-08-30,\"1 James Street Lake Jaimemouth, QLD, 2957\",957,0419373308\n",
    "6,3fc127fa-0117-4202-95cc-aaadd8f2f2d7,1180850905,2021-22-04,21:45:47,Todd Bowman,84-10-27,\"866 Paige Roadway Lisaborough, ACT, 2954\",2954,61415149436\n",
    "7,ddc5dd20-88d6-4cd9-b1a2-f7ff10aec242,746239136,2021-08-06,06:26:19,Elizabeth Richardson,1974/10/31,\"Unit 72 80 Martinez Crossway North Chelsea, 'ACT', 2773\",277,0403634343\n",
    "8,f7cadf7f-c0c4-477f-aca7-234b89cc2324,1587559402,2021/02/13,09:00:47,JosephMarshall,1979-12-31,\"Flat 57 36 Robinson Firetrail New Yolanda, Queensland, xxxx\",2262,61429933309\n",
    "9,3815a511-ff2e-4b86-ac37-d2d77d195297,1521922717,2020-30-05,20:16:51,Stacy Davis,1984/12/25,\"Suite 690  71 Scott Rise Bennettfort, 'ACT', 2982\",,0447315391\n",
    "10,06a516bf-489e-4943-b9f8-a23841a214d5,220864708,2021-03-22,01:08:25,,80-03-17,\"61 Mark Landing Edwardsville, VIC, 2619\",619,0434644709\n",
    "```"
   ]
  },
  {
   "cell_type": "code",
   "execution_count": null,
   "id": "0fd4eff6",
   "metadata": {},
   "outputs": [],
   "source": []
  }
 ],
 "metadata": {
  "kernelspec": {
   "display_name": "Python 3 (ipykernel)",
   "language": "python",
   "name": "python3"
  },
  "language_info": {
   "codemirror_mode": {
    "name": "ipython",
    "version": 3
   },
   "file_extension": ".py",
   "mimetype": "text/x-python",
   "name": "python",
   "nbconvert_exporter": "python",
   "pygments_lexer": "ipython3",
   "version": "3.8.5"
  }
 },
 "nbformat": 4,
 "nbformat_minor": 5
}
