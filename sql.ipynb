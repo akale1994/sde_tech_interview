{
 "cells": [
  {
   "cell_type": "markdown",
   "id": "ea76b105",
   "metadata": {},
   "source": [
    "## SQL / Data Modelling:\n",
    "\n",
    "![](sql_erd.png)\n",
    "\n",
    "\n",
    "1. Keeping the ERD as a reference and the set-up being an event-driven architecture, i.e. an append-only transaction table, please write a query to get the unique active loans. <br>\n",
    "(Note - only consider the latest version of the loans)\n",
    "2. Get the respective merchant and consumer names corresponding to the loans.\n",
    "3. Describe the steps that you will follow to optimise your queries in Athena."
   ]
  },
  {
   "cell_type": "code",
   "execution_count": null,
   "id": "fe2a097b",
   "metadata": {},
   "outputs": [],
   "source": []
  }
 ],
 "metadata": {
  "kernelspec": {
   "display_name": "Python 3 (ipykernel)",
   "language": "python",
   "name": "python3"
  },
  "language_info": {
   "codemirror_mode": {
    "name": "ipython",
    "version": 3
   },
   "file_extension": ".py",
   "mimetype": "text/x-python",
   "name": "python",
   "nbconvert_exporter": "python",
   "pygments_lexer": "ipython3",
   "version": "3.8.5"
  }
 },
 "nbformat": 4,
 "nbformat_minor": 5
}
