{
 "cells": [
  {
   "cell_type": "code",
   "execution_count": null,
   "id": "df42a9c7",
   "metadata": {},
   "outputs": [],
   "source": [
    "pip install ipython-sql"
   ]
  },
  {
   "cell_type": "code",
   "execution_count": null,
   "id": "972d1d48",
   "metadata": {},
   "outputs": [],
   "source": [
    "%load_ext sql"
   ]
  },
  {
   "cell_type": "markdown",
   "id": "ea76b105",
   "metadata": {},
   "source": [
    "## SQL / Data Modelling:\n",
    "\n",
    "![](sql_erd.png)"
   ]
  },
  {
   "cell_type": "markdown",
   "id": "7f782f8f",
   "metadata": {},
   "source": [
    "#### Question 1:\n",
    "Keeping the ERD as a reference and the set-up being an event-driven architecture, i.e. an append-only transaction table, please write a query to get the unique active loans. <br>\n",
    "(Note - only consider the latest version of the loans)"
   ]
  },
  {
   "cell_type": "code",
   "execution_count": null,
   "id": "9b1b8374",
   "metadata": {
    "scrolled": false
   },
   "outputs": [],
   "source": [
    "%%sql sqlite:///test_db.sqlite3\n",
    "\n"
   ]
  },
  {
   "cell_type": "markdown",
   "id": "7ee5de1b",
   "metadata": {},
   "source": [
    "#### Question 2:\n",
    "Get the respective merchant and consumer names corresponding to the loans."
   ]
  },
  {
   "cell_type": "code",
   "execution_count": null,
   "id": "1d9b25ca",
   "metadata": {},
   "outputs": [],
   "source": [
    "%%sql sqlite:///test_db.sqlite3\n",
    "\n"
   ]
  },
  {
   "cell_type": "markdown",
   "id": "b9138dc5",
   "metadata": {},
   "source": [
    "#### Question 3:\n",
    "Describe the steps that you will follow to optimise your queries in Athena."
   ]
  }
 ],
 "metadata": {
  "kernelspec": {
   "display_name": "Python 3 (ipykernel)",
   "language": "python",
   "name": "python3"
  },
  "language_info": {
   "codemirror_mode": {
    "name": "ipython",
    "version": 3
   },
   "file_extension": ".py",
   "mimetype": "text/x-python",
   "name": "python",
   "nbconvert_exporter": "python",
   "pygments_lexer": "ipython3",
   "version": "3.8.5"
  }
 },
 "nbformat": 4,
 "nbformat_minor": 5
}
